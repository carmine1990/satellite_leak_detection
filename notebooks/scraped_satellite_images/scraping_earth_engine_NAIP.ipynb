{
 "cells": [
  {
   "cell_type": "markdown",
   "metadata": {},
   "source": [
    "## Dati Satellite NAIP (National Agriculture Imagery Program)"
   ]
  },
  {
   "cell_type": "code",
   "execution_count": 1,
   "metadata": {
    "ExecuteTime": {
     "end_time": "2017-03-18T10:08:09.472506Z",
     "start_time": "2017-03-18T18:08:07.757873+08:00"
    }
   },
   "outputs": [
    {
     "data": {
      "text/plain": [
       "'%.4f'"
      ]
     },
     "execution_count": 1,
     "metadata": {},
     "output_type": "execute_result"
    }
   ],
   "source": [
    "from path import Path\n",
    "import arrow\n",
    "import json\n",
    "import pytz\n",
    "from pprint import pprint\n",
    "from tqdm.notebook import tqdm\n",
    "import re, os, collections, itertools, uuid, logging\n",
    "import tempfile\n",
    "\n",
    "import zipfile\n",
    "import urllib\n",
    "\n",
    "import ee\n",
    "import pyproj\n",
    "import numpy as np\n",
    "import scipy as sp\n",
    "import pandas as pd\n",
    "import geopandas as gpd\n",
    "from matplotlib import pyplot as plt\n",
    "import seaborn as sns\n",
    "\n",
    "plt.rcParams['figure.figsize'] = (15, 5) # bigger plots\n",
    "plt.style.use('fivethirtyeight')\n",
    "%matplotlib inline\n",
    "%precision 4"
   ]
  },
  {
   "cell_type": "code",
   "execution_count": 2,
   "metadata": {
    "ExecuteTime": {
     "end_time": "2017-03-18T10:08:12.811993Z",
     "start_time": "2017-03-18T18:08:09.479209+08:00"
    }
   },
   "outputs": [],
   "source": [
    "helper_dir = str(Path('..').abspath())\n",
    "if helper_dir not in os.sys.path:\n",
    "    os.sys.path.append(helper_dir)\n",
    "    \n",
    "from leak_helpers.earth_engine import display_ee, get_boundary, tifs2np, bands_s2, download_image, bands_s1, bands_l7, bands_l8, bands_NAIP"
   ]
  },
  {
   "cell_type": "code",
   "execution_count": 3,
   "metadata": {},
   "outputs": [],
   "source": [
    "# # Non voglio stampare i Warning\n",
    "# import warnings\n",
    "# warnings.filterwarnings(\"ignore\")"
   ]
  },
  {
   "cell_type": "markdown",
   "metadata": {},
   "source": [
    "# Load leaks"
   ]
  },
  {
   "cell_type": "code",
   "execution_count": 3,
   "metadata": {
    "ExecuteTime": {
     "end_time": "2017-03-18T10:08:17.925179Z",
     "start_time": "2017-03-18T18:08:15.141537+08:00"
    },
    "scrolled": true
   },
   "outputs": [
    {
     "data": {
      "text/plain": [
       "[          id  anno civico       comune  \\\n",
       " 0          0  2015    137        AULLA   \n",
       " 1          1  2015      8        AULLA   \n",
       " 2          2  2015    110        AULLA   \n",
       " 3          3  2015    snc        aulla   \n",
       " 4          4  2015    snc        aulla   \n",
       " ...      ...   ...    ...          ...   \n",
       " 33179  33179  2021   None  GIUNCUGNANO   \n",
       " 33180  33180  2021   None    MOLAZZANA   \n",
       " 33181  33181  2021   None    MASSAROSA   \n",
       " 33182  33182  2021   None    MASSAROSA   \n",
       " 33183  33183  2021   None    MASSAROSA   \n",
       " \n",
       "                                              description  diametro  \\\n",
       " 0                               Perdita acqua dalla rete      63.0   \n",
       " 1                               Perdita acqua dalla rete      40.0   \n",
       " 2                               Perdita acqua dalla rete      90.0   \n",
       " 3      perdita rete idrica su strada provinciale in l...      90.0   \n",
       " 4       perdita rete idrica in loc albiano via molinetti      63.0   \n",
       " ...                                                  ...       ...   \n",
       " 33179             Ricerca perdita add.argegna scoiattolo      50.0   \n",
       " 33180                                   PERDITA STRADALE      25.0   \n",
       " 33181                           Perdita acqua dalla rete      32.0   \n",
       " 33182         PERDITA STRADALE VISTA DA QUADRATI URGENTE      63.0   \n",
       " 33183                           Perdita acqua dalla rete      32.0   \n",
       " \n",
       "        l_intervento       localita  location materiale  objectid  \\\n",
       " 0               0.0  ALBIANO MAGRA  02A03R01      PEAD         0   \n",
       " 1               3.0  ALBIANO MAGRA  02A03R01      PEAD         1   \n",
       " 2               0.0  ALBIANO MAGRA  02A03R01      PEAD         2   \n",
       " 3               0.0        ALBIANO  02A03R01      PEAD         3   \n",
       " 4               0.0        ALBIANO  02A03R01      PEAD         4   \n",
       " ...             ...            ...       ...       ...       ...   \n",
       " 33179           3.0     CARPINELLI  29A22A01     FERRO     33179   \n",
       " 33180           2.0  MONTALTISSIMO  30A01A06      PEAD     33180   \n",
       " 33181           0.0         QUIESA  28A01R14      PEAD     33181   \n",
       " 33182           2.0  MASSACIUCCOLI  28A01R15      PEAD     33182   \n",
       " 33183           0.0         QUIESA  28A01R14     FERRO     33183   \n",
       " \n",
       "                              reportdate status  \\\n",
       " 0             2015-05-08T08:16:00+00:00  CLOSE   \n",
       " 1             2015-06-10T08:18:00+00:00  CLOSE   \n",
       " 2             2015-06-11T09:09:00+00:00  CLOSE   \n",
       " 3      2015-06-18T06:00:56.737000+00:00  CLOSE   \n",
       " 4      2015-06-30T06:10:52.959999+00:00  CLOSE   \n",
       " ...                                 ...    ...   \n",
       " 33179  2021-10-21T14:50:35.837002+00:00  INPRG   \n",
       " 33180  2021-10-26T11:23:17.657000+00:00  CLOSE   \n",
       " 33181         2021-11-08T15:39:00+00:00   COMP   \n",
       " 33182  2021-11-12T11:09:55.516998+00:00  CLOSE   \n",
       " 33183         2021-11-23T09:41:00+00:00   COMP   \n",
       " \n",
       "                                    via        wonum  workorderid  \\\n",
       " 0                   VIA REPUBBLICA 137  15ODL101087       430398   \n",
       " 1                      VIA MOLINETTI 8  15ODL126576       454859   \n",
       " 2                   VIA REPUBBLICA 110  15ODL126905       455210   \n",
       " 3                           repubblica  15ODL131401       459545   \n",
       " 4                            molinetti  15ODL139860       467973   \n",
       " ...                                ...          ...          ...   \n",
       " 33179                       Carpinelli  21ODL409136      2725108   \n",
       " 33180                         FORTEZZA  21ODL414549      2730580   \n",
       " 33181                 VIA SCIOLA 170/Q  21ODL430403      2746652   \n",
       " 33182  PIETRA A PADULE LOC. CASE ROSSE  21ODL431772      2748097   \n",
       " 33183               VIA SARZANESE 2002  21ODL442582      2759146   \n",
       " \n",
       "                   x             y                   geometry  \n",
       " 0      1.102220e+06  5.492012e+06   POINT (9.90141 44.17144)  \n",
       " 1      1.103558e+06  5.492504e+06   POINT (9.91343 44.17462)  \n",
       " 2      1.102617e+06  5.492130e+06   POINT (9.90498 44.17221)  \n",
       " 3      1.102929e+06  5.492287e+06   POINT (9.90778 44.17321)  \n",
       " 4      1.103540e+06  5.492505e+06   POINT (9.91327 44.17462)  \n",
       " ...             ...           ...                        ...  \n",
       " 33179  1.138915e+06  5.496930e+06  POINT (10.23105 44.20313)  \n",
       " 33180  1.158930e+06  5.477972e+06  POINT (10.41085 44.08091)  \n",
       " 33181  1.153541e+06  5.442040e+06  POINT (10.36244 43.84858)  \n",
       " 33182  1.154497e+06  5.437877e+06  POINT (10.37103 43.82161)  \n",
       " 33183  1.152939e+06  5.442944e+06  POINT (10.35702 43.85444)  \n",
       " \n",
       " [33184 rows x 19 columns]]"
      ]
     },
     "execution_count": 3,
     "metadata": {},
     "output_type": "execute_result"
    }
   ],
   "source": [
    "# load \n",
    "root = \"C:/Users/tranfa.carmine/Desktop/Satellite/ricerca_perdite\"\n",
    "leaks = gpd.read_file(root+\"/data/leak_dataset/leaks.geojson\")\n",
    "\n",
    "leaks_datas = [leaks]\n",
    "\n",
    "leaks_datas"
   ]
  },
  {
   "cell_type": "code",
   "execution_count": 4,
   "metadata": {
    "ExecuteTime": {
     "end_time": "2017-03-18T10:08:17.925652Z",
     "start_time": "2017-03-18T10:08:09.292Z"
    },
    "scrolled": true
   },
   "outputs": [
    {
     "name": "stderr",
     "output_type": "stream",
     "text": [
      "C:\\Users\\TRANFA~1.CAR\\AppData\\Local\\Temp/ipykernel_1376/3025104378.py:4: FutureWarning: In a future version of pandas all arguments of DataFrame.drop except for the argument 'labels' will be keyword-only\n",
      "  leaks['metadata'] = np.concatenate([leaks_data.drop(primary_cols,1).to_dict('records') for leaks_data in leaks_datas])\n"
     ]
    },
    {
     "data": {
      "text/html": [
       "<div>\n",
       "<style scoped>\n",
       "    .dataframe tbody tr th:only-of-type {\n",
       "        vertical-align: middle;\n",
       "    }\n",
       "\n",
       "    .dataframe tbody tr th {\n",
       "        vertical-align: top;\n",
       "    }\n",
       "\n",
       "    .dataframe thead th {\n",
       "        text-align: right;\n",
       "    }\n",
       "</style>\n",
       "<table border=\"1\" class=\"dataframe\">\n",
       "  <thead>\n",
       "    <tr style=\"text-align: right;\">\n",
       "      <th></th>\n",
       "      <th>workorderid</th>\n",
       "      <th>reportdate</th>\n",
       "      <th>geometry</th>\n",
       "      <th>metadata</th>\n",
       "    </tr>\n",
       "    <tr>\n",
       "      <th>workorderid</th>\n",
       "      <th></th>\n",
       "      <th></th>\n",
       "      <th></th>\n",
       "      <th></th>\n",
       "    </tr>\n",
       "  </thead>\n",
       "  <tbody>\n",
       "    <tr>\n",
       "      <th>430398</th>\n",
       "      <td>430398</td>\n",
       "      <td>2015-05-08T08:16:00+00:00</td>\n",
       "      <td>POINT (9.90141 44.17144)</td>\n",
       "      <td>{'id': '0', 'anno': 2015, 'civico': '137', 'co...</td>\n",
       "    </tr>\n",
       "    <tr>\n",
       "      <th>454859</th>\n",
       "      <td>454859</td>\n",
       "      <td>2015-06-10T08:18:00+00:00</td>\n",
       "      <td>POINT (9.91343 44.17462)</td>\n",
       "      <td>{'id': '1', 'anno': 2015, 'civico': '8', 'comu...</td>\n",
       "    </tr>\n",
       "    <tr>\n",
       "      <th>455210</th>\n",
       "      <td>455210</td>\n",
       "      <td>2015-06-11T09:09:00+00:00</td>\n",
       "      <td>POINT (9.90498 44.17221)</td>\n",
       "      <td>{'id': '2', 'anno': 2015, 'civico': '110', 'co...</td>\n",
       "    </tr>\n",
       "    <tr>\n",
       "      <th>459545</th>\n",
       "      <td>459545</td>\n",
       "      <td>2015-06-18T06:00:56.737000+00:00</td>\n",
       "      <td>POINT (9.90778 44.17321)</td>\n",
       "      <td>{'id': '3', 'anno': 2015, 'civico': 'snc', 'co...</td>\n",
       "    </tr>\n",
       "    <tr>\n",
       "      <th>467973</th>\n",
       "      <td>467973</td>\n",
       "      <td>2015-06-30T06:10:52.959999+00:00</td>\n",
       "      <td>POINT (9.91327 44.17462)</td>\n",
       "      <td>{'id': '4', 'anno': 2015, 'civico': 'snc', 'co...</td>\n",
       "    </tr>\n",
       "    <tr>\n",
       "      <th>...</th>\n",
       "      <td>...</td>\n",
       "      <td>...</td>\n",
       "      <td>...</td>\n",
       "      <td>...</td>\n",
       "    </tr>\n",
       "    <tr>\n",
       "      <th>2725108</th>\n",
       "      <td>2725108</td>\n",
       "      <td>2021-10-21T14:50:35.837002+00:00</td>\n",
       "      <td>POINT (10.23105 44.20313)</td>\n",
       "      <td>{'id': '33179', 'anno': 2021, 'civico': None, ...</td>\n",
       "    </tr>\n",
       "    <tr>\n",
       "      <th>2730580</th>\n",
       "      <td>2730580</td>\n",
       "      <td>2021-10-26T11:23:17.657000+00:00</td>\n",
       "      <td>POINT (10.41085 44.08091)</td>\n",
       "      <td>{'id': '33180', 'anno': 2021, 'civico': None, ...</td>\n",
       "    </tr>\n",
       "    <tr>\n",
       "      <th>2746652</th>\n",
       "      <td>2746652</td>\n",
       "      <td>2021-11-08T15:39:00+00:00</td>\n",
       "      <td>POINT (10.36244 43.84858)</td>\n",
       "      <td>{'id': '33181', 'anno': 2021, 'civico': None, ...</td>\n",
       "    </tr>\n",
       "    <tr>\n",
       "      <th>2748097</th>\n",
       "      <td>2748097</td>\n",
       "      <td>2021-11-12T11:09:55.516998+00:00</td>\n",
       "      <td>POINT (10.37103 43.82161)</td>\n",
       "      <td>{'id': '33182', 'anno': 2021, 'civico': None, ...</td>\n",
       "    </tr>\n",
       "    <tr>\n",
       "      <th>2759146</th>\n",
       "      <td>2759146</td>\n",
       "      <td>2021-11-23T09:41:00+00:00</td>\n",
       "      <td>POINT (10.35702 43.85444)</td>\n",
       "      <td>{'id': '33183', 'anno': 2021, 'civico': None, ...</td>\n",
       "    </tr>\n",
       "  </tbody>\n",
       "</table>\n",
       "<p>33184 rows × 4 columns</p>\n",
       "</div>"
      ],
      "text/plain": [
       "             workorderid                        reportdate  \\\n",
       "workorderid                                                  \n",
       "430398            430398         2015-05-08T08:16:00+00:00   \n",
       "454859            454859         2015-06-10T08:18:00+00:00   \n",
       "455210            455210         2015-06-11T09:09:00+00:00   \n",
       "459545            459545  2015-06-18T06:00:56.737000+00:00   \n",
       "467973            467973  2015-06-30T06:10:52.959999+00:00   \n",
       "...                  ...                               ...   \n",
       "2725108          2725108  2021-10-21T14:50:35.837002+00:00   \n",
       "2730580          2730580  2021-10-26T11:23:17.657000+00:00   \n",
       "2746652          2746652         2021-11-08T15:39:00+00:00   \n",
       "2748097          2748097  2021-11-12T11:09:55.516998+00:00   \n",
       "2759146          2759146         2021-11-23T09:41:00+00:00   \n",
       "\n",
       "                              geometry  \\\n",
       "workorderid                              \n",
       "430398        POINT (9.90141 44.17144)   \n",
       "454859        POINT (9.91343 44.17462)   \n",
       "455210        POINT (9.90498 44.17221)   \n",
       "459545        POINT (9.90778 44.17321)   \n",
       "467973        POINT (9.91327 44.17462)   \n",
       "...                                ...   \n",
       "2725108      POINT (10.23105 44.20313)   \n",
       "2730580      POINT (10.41085 44.08091)   \n",
       "2746652      POINT (10.36244 43.84858)   \n",
       "2748097      POINT (10.37103 43.82161)   \n",
       "2759146      POINT (10.35702 43.85444)   \n",
       "\n",
       "                                                      metadata  \n",
       "workorderid                                                     \n",
       "430398       {'id': '0', 'anno': 2015, 'civico': '137', 'co...  \n",
       "454859       {'id': '1', 'anno': 2015, 'civico': '8', 'comu...  \n",
       "455210       {'id': '2', 'anno': 2015, 'civico': '110', 'co...  \n",
       "459545       {'id': '3', 'anno': 2015, 'civico': 'snc', 'co...  \n",
       "467973       {'id': '4', 'anno': 2015, 'civico': 'snc', 'co...  \n",
       "...                                                        ...  \n",
       "2725108      {'id': '33179', 'anno': 2021, 'civico': None, ...  \n",
       "2730580      {'id': '33180', 'anno': 2021, 'civico': None, ...  \n",
       "2746652      {'id': '33181', 'anno': 2021, 'civico': None, ...  \n",
       "2748097      {'id': '33182', 'anno': 2021, 'civico': None, ...  \n",
       "2759146      {'id': '33183', 'anno': 2021, 'civico': None, ...  \n",
       "\n",
       "[33184 rows x 4 columns]"
      ]
     },
     "execution_count": 4,
     "metadata": {},
     "output_type": "execute_result"
    }
   ],
   "source": [
    "# join them all, with primary columns and random metadata\n",
    "primary_cols = ['workorderid','reportdate','geometry']\n",
    "leaks = gpd.GeoDataFrame(pd.concat([leaks_data[primary_cols] for leaks_data in leaks_datas]), crs='epsg:4326')\n",
    "leaks['metadata'] = np.concatenate([leaks_data.drop(primary_cols,1).to_dict('records') for leaks_data in leaks_datas])\n",
    "leaks.index = leaks.workorderid\n",
    "leaks"
   ]
  },
  {
   "cell_type": "markdown",
   "metadata": {},
   "source": [
    "## Params\n",
    "\n",
    "Customise the values in the cell below"
   ]
  },
  {
   "cell_type": "code",
   "execution_count": 5,
   "metadata": {},
   "outputs": [],
   "source": [
    "# params\n",
    "bands = bands_NAIP\n",
    "satellite = 'USDA/NAIP/DOQQ'\n",
    "resolution_min = 1.0 # m\n",
    "cloudy_percentage = 30\n",
    "\n",
    "# since the lowest res band is 60m and I want to capture neighbours I should get 6+ pixels\n",
    "pixel_length = 129.0\n",
    "\n",
    "# you need to tweak this until you pass the \"Test the distance need to get your rectangle\" cell\n",
    "fudge_distance_factor = -0.5"
   ]
  },
  {
   "cell_type": "markdown",
   "metadata": {},
   "source": [
    "## Init"
   ]
  },
  {
   "cell_type": "code",
   "execution_count": 6,
   "metadata": {},
   "outputs": [
    {
     "data": {
      "application/javascript": [
       "var kernel = IPython.notebook.kernel;\n",
       "var thename = window.document.getElementById(\"notebook_name\").innerHTML;\n",
       "var command = \"notebook_name = \" + \"'\"+thename+\"'\";\n",
       "kernel.execute(command);\n"
      ],
      "text/plain": [
       "<IPython.core.display.Javascript object>"
      ]
     },
     "metadata": {},
     "output_type": "display_data"
    }
   ],
   "source": [
    "%%javascript\n",
    "var kernel = IPython.notebook.kernel;\n",
    "var thename = window.document.getElementById(\"notebook_name\").innerHTML;\n",
    "var command = \"notebook_name = \" + \"'\"+thename+\"'\";\n",
    "kernel.execute(command);"
   ]
  },
  {
   "cell_type": "code",
   "execution_count": 8,
   "metadata": {},
   "outputs": [
    {
     "data": {
      "text/plain": [
       "'scraping_earth_engine_NAIP'"
      ]
     },
     "execution_count": 8,
     "metadata": {},
     "output_type": "execute_result"
    }
   ],
   "source": [
    "#notebook_name='scraping_earth_engine_NAIP'\n",
    "notebook_name"
   ]
  },
  {
   "cell_type": "code",
   "execution_count": 9,
   "metadata": {},
   "outputs": [
    {
     "data": {
      "text/plain": [
       "(Path('C:/Users/tranfa.carmine/Desktop/Satellite/ricerca_perdite/data/scraped_satellite_images/USDA_NAIP_DOQQ/tmp/'),\n",
       " Path('C:/Users/tranfa.carmine/Desktop/Satellite/ricerca_perdite/data/scraped_satellite_images/USDA_NAIP_DOQQ'),\n",
       " Path('C:/Users/tranfa.carmine/Desktop/Satellite/ricerca_perdite/data/scraped_satellite_images/USDA_NAIP_DOQQ/cache'))"
      ]
     },
     "execution_count": 9,
     "metadata": {},
     "output_type": "execute_result"
    }
   ],
   "source": [
    "# constant params, probobly don't change\n",
    "#time_bin_delta = 60*60*6 # how long before a leak to look (in seconds)\n",
    "time_before = 6*60*60\n",
    "time_after = 21*24*60*60\n",
    "crs_grid = 3857 # keep this as auxilary sphere, this is the CRS the downloaded images will be in\n",
    "\n",
    "# init\n",
    "## init directories\n",
    "ts=arrow.utcnow().format('YYYYMMDD-HH-mm-ss')\n",
    "temp_dir = Path(root+'/data/scraped_satellite_images/'+satellite.replace(\"/\",\"_\")+'/tmp/')\n",
    "output_dir = Path(root+'/data/scraped_satellite_images/'+satellite.replace(\"/\",\"_\"))\n",
    "cache_dir = Path(output_dir+'/cache')\n",
    "output_dir.makedirs_p()\n",
    "temp_dir.makedirs_p()\n",
    "cache_dir.makedirs_p()\n",
    "\n",
    "## init logger\n",
    "logger = logging.getLogger(notebook_name)\n",
    "# logger.setLevel(logging.WARN)\n",
    "\n",
    "temp_dir, output_dir, cache_dir"
   ]
  },
  {
   "cell_type": "code",
   "execution_count": 10,
   "metadata": {},
   "outputs": [],
   "source": [
    "metadata_file = output_dir.joinpath('script_metadata.json')\n",
    "\n",
    "# write metadata to json\n",
    "metadata = dict(\n",
    "    notebook_name=notebook_name,\n",
    "    satellite=satellite,\n",
    "    #time_bin_delta=time_bin_delta,\n",
    "    time_before=time_before,\n",
    "    time_after=time_after,\n",
    "    cloudy_percentage=cloudy_percentage,\n",
    "    pixel_length=pixel_length,\n",
    "    resolution_min=resolution_min,\n",
    "    bands=bands,\n",
    "    ts=ts,\n",
    "    crs_grid=crs_grid,\n",
    "    cache_dir=str(cache_dir),\n",
    "    temp_dir=str(temp_dir),\n",
    "    output_dir=str(output_dir),\n",
    ")\n",
    "metadata_file = output_dir.joinpath('script_metadata.json')\n",
    "json.dump(metadata, open(metadata_file,'w'))"
   ]
  },
  {
   "cell_type": "markdown",
   "metadata": {},
   "source": [
    "# Earth Engine\n",
    "\n",
    "Setup instructions here\n",
    "- first need to apply for an account and wait ~ 1day\n",
    "- https://developers.google.com/earth-engine/python_install#setting-up-authentication-credentials\n",
    "\n",
    "Refs:\n",
    "- api https://developers.google.com/earth-engine/\n",
    "- code examples https://code.earthengine.google.com/\n",
    "- sentinel1 https://developers.google.com/earth-engine/sentinel1\n",
    "    - `ee.ImageCollection('COPERNICUS/S2_GRD');`\n",
    "    - `ee.ImageCollection('COPERNICUS/S1_GRD');`\n",
    "- keras and google earth https://github.com/patrick-dd/landsat-landstats"
   ]
  },
  {
   "cell_type": "code",
   "execution_count": 11,
   "metadata": {
    "scrolled": true
   },
   "outputs": [
    {
     "data": {
      "text/plain": [
       "{'type': 'Image',\n",
       " 'bands': [{'id': 'N',\n",
       "   'data_type': {'type': 'PixelType',\n",
       "    'precision': 'int',\n",
       "    'min': 0,\n",
       "    'max': 255},\n",
       "   'dimensions': [3480, 3805],\n",
       "   'crs': 'EPSG:26914',\n",
       "   'crs_transform': [2, 0, 631040, 0, -2, 2876720]},\n",
       "  {'id': 'R',\n",
       "   'data_type': {'type': 'PixelType',\n",
       "    'precision': 'int',\n",
       "    'min': 0,\n",
       "    'max': 255},\n",
       "   'dimensions': [3480, 3805],\n",
       "   'crs': 'EPSG:26914',\n",
       "   'crs_transform': [2, 0, 631040, 0, -2, 2876720]},\n",
       "  {'id': 'G',\n",
       "   'data_type': {'type': 'PixelType',\n",
       "    'precision': 'int',\n",
       "    'min': 0,\n",
       "    'max': 255},\n",
       "   'dimensions': [3480, 3805],\n",
       "   'crs': 'EPSG:26914',\n",
       "   'crs_transform': [2, 0, 631040, 0, -2, 2876720]}],\n",
       " 'version': 1493666571723000.0000,\n",
       " 'id': 'USDA/NAIP/DOQQ/c_2509703_ne_14_2_20060519',\n",
       " 'properties': {'system:time_start': 1147996800000,\n",
       "  'system:footprint': {'type': 'LinearRing',\n",
       "   'coordinates': [[-97.6914, 26.0028],\n",
       "    [-97.6914, 25.9347],\n",
       "    [-97.6211, 25.9347],\n",
       "    [-97.6211, 26.0028],\n",
       "    [-97.6914, 26.0028]]},\n",
       "  'system:time_end': 1148083200000,\n",
       "  'system:asset_size': 34233523,\n",
       "  'system:index': 'c_2509703_ne_14_2_20060519'}}"
      ]
     },
     "execution_count": 11,
     "metadata": {},
     "output_type": "execute_result"
    }
   ],
   "source": [
    "# test earth-engine setup\n",
    "from oauth2client import crypt # should have not error\n",
    "import ee\n",
    "ee.Initialize() # should give no errors, if so follow instructions\n",
    "\n",
    "\n",
    "# test\n",
    "image = ee.Image(ee.ImageCollection(satellite).first())\n",
    "info = image.getInfo()\n",
    "info"
   ]
  },
  {
   "cell_type": "markdown",
   "metadata": {
    "ExecuteTime": {
     "end_time": "2017-01-15T10:46:31.548298",
     "start_time": "2017-01-15T10:46:31.546367"
    }
   },
   "source": [
    "# Fetching images\n",
    "\n",
    "For a leak repair, grab the image before and after it\n",
    "\n",
    "Note roughly 10% have results for a 1 day temporal bin\n",
    "For each point\n",
    "- find the nearest image before the repair\n",
    "- and the soonest image after repair\n",
    "- save a part of each with metadata\n",
    "\n",
    "Later we can filter, interpolate, and read into numpy arrays"
   ]
  },
  {
   "cell_type": "code",
   "execution_count": 12,
   "metadata": {
    "ExecuteTime": {
     "end_time": "2017-03-18T10:08:28.842346Z",
     "start_time": "2017-03-18T18:08:28.836767+08:00"
    }
   },
   "outputs": [
    {
     "data": {
      "text/plain": [
       "0"
      ]
     },
     "execution_count": 12,
     "metadata": {},
     "output_type": "execute_result"
    }
   ],
   "source": [
    "import dataset\n",
    "cache_file = 'sqlite:///{}'.format(cache_dir.dirname().joinpath('cache.db'))\n",
    "db = dataset.connect(cache_file)\n",
    "cache_table = db.get_table('cached_ids', primary_id='workorderid')\n",
    "\n",
    "def get_cached_ids():\n",
    "    return set(row['workorderid'] for row in cache_table.distinct('workorderid'))\n",
    "\n",
    "def init_cache(workorderid):\n",
    "    \"\"\"We will cache downloads in folders like 'id_after'\"\"\"\n",
    "    if workorderid:\n",
    "        try:\n",
    "            cache_table.insert(dict(workorderid=workorderid))\n",
    "        except:\n",
    "            db.rollback()\n",
    "        else:\n",
    "            db.commit()\n",
    "    return\n",
    "\n",
    "#Aggiunge il workorderid per il quale ho già l'immagine\n",
    "img_path = Path('../../data/scraped_satellite_images/'+satellite.replace(\"/\",\"_\")+'/cache/')\n",
    "for i in os.listdir(img_path):\n",
    "    init_cache(i.split('_')[0])\n",
    "\n",
    "# Conta il set di workorderid già scaricati\n",
    "len(get_cached_ids())"
   ]
  },
  {
   "cell_type": "code",
   "execution_count": 13,
   "metadata": {},
   "outputs": [
    {
     "data": {
      "text/plain": [
       "33184"
      ]
     },
     "execution_count": 13,
     "metadata": {},
     "output_type": "execute_result"
    }
   ],
   "source": [
    "# # # Cancella dati dalla tabella\n",
    "# cache_table.delete()\n",
    "\n",
    "# Conta il set di workorderid che mancano da provare a scaricare\n",
    "leak_to_scrape = set(leaks.workorderid).difference(set(get_cached_ids()))\n",
    "\n",
    "len(leak_to_scrape)\n",
    "#leak_to_scrape"
   ]
  },
  {
   "cell_type": "markdown",
   "metadata": {},
   "source": [
    "### Test the distance need to get your rectangle\n",
    "\n",
    "Here we need to tweak `fudge_distance_factor` so that we get the image size of our choice. Start with zero and try -1, -0.5, -.25,0,0.25,0.5,0.75. This is to deal with rounding, projecting between CRS's etc. Don't worry the asserts below will yet you know when it's right.\n",
    "\n",
    "Occasionaly the problem might be that the leak is at the edge of the image, giving a cropped image. Ignore these rare cases."
   ]
  },
  {
   "cell_type": "code",
   "execution_count": 14,
   "metadata": {
    "ExecuteTime": {
     "end_time": "2017-03-18T10:08:30.447941Z",
     "start_time": "2017-03-18T18:08:30.445152+08:00"
    }
   },
   "outputs": [],
   "source": [
    "distance = resolution_min*(pixel_length/2.00+fudge_distance_factor)"
   ]
  },
  {
   "cell_type": "code",
   "execution_count": 15,
   "metadata": {
    "ExecuteTime": {
     "end_time": "2017-03-15T14:34:52.122574Z",
     "start_time": "2017-03-15T22:34:52.120409+08:00"
    }
   },
   "outputs": [
    {
     "data": {
      "application/vnd.jupyter.widget-view+json": {
       "model_id": "8018ee790b8e471c843d50b6b418f4d9",
       "version_major": 2,
       "version_minor": 0
      },
      "text/plain": [
       "  0%|          | 0/33184 [00:00<?, ?it/s]"
      ]
     },
     "metadata": {},
     "output_type": "display_data"
    },
    {
     "ename": "KeyboardInterrupt",
     "evalue": "",
     "output_type": "error",
     "traceback": [
      "\u001b[1;31m---------------------------------------------------------------------------\u001b[0m",
      "\u001b[1;31mKeyboardInterrupt\u001b[0m                         Traceback (most recent call last)",
      "\u001b[1;32mC:\\Users\\TRANFA~1.CAR\\AppData\\Local\\Temp/ipykernel_1376/2198029190.py\u001b[0m in \u001b[0;36m<module>\u001b[1;34m\u001b[0m\n\u001b[0;32m     92\u001b[0m \u001b[1;32mfor\u001b[0m \u001b[0mi\u001b[0m \u001b[1;32min\u001b[0m \u001b[0mtqdm\u001b[0m\u001b[1;33m(\u001b[0m\u001b[0mleak_to_scrape\u001b[0m\u001b[1;33m)\u001b[0m\u001b[1;33m:\u001b[0m\u001b[1;33m\u001b[0m\u001b[1;33m\u001b[0m\u001b[0m\n\u001b[0;32m     93\u001b[0m     \u001b[1;32mtry\u001b[0m\u001b[1;33m:\u001b[0m\u001b[1;33m\u001b[0m\u001b[1;33m\u001b[0m\u001b[0m\n\u001b[1;32m---> 94\u001b[1;33m         \u001b[0mget_image_for_leak\u001b[0m\u001b[1;33m(\u001b[0m\u001b[0mi\u001b[0m\u001b[1;33m)\u001b[0m\u001b[1;33m\u001b[0m\u001b[1;33m\u001b[0m\u001b[0m\n\u001b[0m\u001b[0;32m     95\u001b[0m     \u001b[1;32mexcept\u001b[0m \u001b[0murllib\u001b[0m\u001b[1;33m.\u001b[0m\u001b[0merror\u001b[0m\u001b[1;33m.\u001b[0m\u001b[0mHTTPError\u001b[0m \u001b[1;32mas\u001b[0m \u001b[0me\u001b[0m\u001b[1;33m:\u001b[0m\u001b[1;33m\u001b[0m\u001b[1;33m\u001b[0m\u001b[0m\n\u001b[0;32m     96\u001b[0m         \u001b[0mprint\u001b[0m\u001b[1;33m(\u001b[0m\u001b[0mi\u001b[0m\u001b[1;33m,\u001b[0m\u001b[0me\u001b[0m\u001b[1;33m)\u001b[0m \u001b[1;31m# \"HTTP Error 429: unknown\"\u001b[0m\u001b[1;33m\u001b[0m\u001b[1;33m\u001b[0m\u001b[0m\n",
      "\u001b[1;32mC:\\Users\\TRANFA~1.CAR\\AppData\\Local\\Temp/ipykernel_1376/2198029190.py\u001b[0m in \u001b[0;36mget_image_for_leak\u001b[1;34m(i, cached_ids)\u001b[0m\n\u001b[0;32m     24\u001b[0m                        )\n\u001b[0;32m     25\u001b[0m \u001b[1;33m\u001b[0m\u001b[0m\n\u001b[1;32m---> 26\u001b[1;33m     \u001b[0mresults\u001b[0m \u001b[1;33m=\u001b[0m \u001b[0msentinel2_before\u001b[0m\u001b[1;33m.\u001b[0m\u001b[0msize\u001b[0m\u001b[1;33m(\u001b[0m\u001b[1;33m)\u001b[0m\u001b[1;33m.\u001b[0m\u001b[0mgetInfo\u001b[0m\u001b[1;33m(\u001b[0m\u001b[1;33m)\u001b[0m\u001b[1;33m\u001b[0m\u001b[1;33m\u001b[0m\u001b[0m\n\u001b[0m\u001b[0;32m     27\u001b[0m     \u001b[1;32mif\u001b[0m \u001b[0mresults\u001b[0m\u001b[1;33m<\u001b[0m\u001b[1;36m1\u001b[0m\u001b[1;33m:\u001b[0m\u001b[1;33m\u001b[0m\u001b[1;33m\u001b[0m\u001b[0m\n\u001b[0;32m     28\u001b[0m         \u001b[0mlogger\u001b[0m\u001b[1;33m.\u001b[0m\u001b[0minfo\u001b[0m\u001b[1;33m(\u001b[0m\u001b[1;34m'Error no results for day before %s'\u001b[0m\u001b[1;33m,\u001b[0m\u001b[0mworkorderid\u001b[0m\u001b[1;33m)\u001b[0m\u001b[1;33m\u001b[0m\u001b[1;33m\u001b[0m\u001b[0m\n",
      "\u001b[1;32m~\\Anaconda3\\envs\\satellite\\lib\\site-packages\\ee\\computedobject.py\u001b[0m in \u001b[0;36mgetInfo\u001b[1;34m(self)\u001b[0m\n\u001b[0;32m     96\u001b[0m       \u001b[0mThe\u001b[0m \u001b[0mobject\u001b[0m \u001b[0mcan\u001b[0m \u001b[0mevaluate\u001b[0m \u001b[0mto\u001b[0m \u001b[0manything\u001b[0m\u001b[1;33m.\u001b[0m\u001b[1;33m\u001b[0m\u001b[1;33m\u001b[0m\u001b[0m\n\u001b[0;32m     97\u001b[0m     \"\"\"\n\u001b[1;32m---> 98\u001b[1;33m     \u001b[1;32mreturn\u001b[0m \u001b[0mdata\u001b[0m\u001b[1;33m.\u001b[0m\u001b[0mcomputeValue\u001b[0m\u001b[1;33m(\u001b[0m\u001b[0mself\u001b[0m\u001b[1;33m)\u001b[0m\u001b[1;33m\u001b[0m\u001b[1;33m\u001b[0m\u001b[0m\n\u001b[0m\u001b[0;32m     99\u001b[0m \u001b[1;33m\u001b[0m\u001b[0m\n\u001b[0;32m    100\u001b[0m   \u001b[1;32mdef\u001b[0m \u001b[0mencode\u001b[0m\u001b[1;33m(\u001b[0m\u001b[0mself\u001b[0m\u001b[1;33m,\u001b[0m \u001b[0mencoder\u001b[0m\u001b[1;33m)\u001b[0m\u001b[1;33m:\u001b[0m\u001b[1;33m\u001b[0m\u001b[1;33m\u001b[0m\u001b[0m\n",
      "\u001b[1;32m~\\Anaconda3\\envs\\satellite\\lib\\site-packages\\ee\\data.py\u001b[0m in \u001b[0;36mcomputeValue\u001b[1;34m(obj)\u001b[0m\n\u001b[0;32m    670\u001b[0m     \u001b[0mThe\u001b[0m \u001b[0mresult\u001b[0m \u001b[0mof\u001b[0m \u001b[0mevaluating\u001b[0m \u001b[0mthat\u001b[0m \u001b[0mobject\u001b[0m \u001b[0mon\u001b[0m \u001b[0mthe\u001b[0m \u001b[0mserver\u001b[0m\u001b[1;33m.\u001b[0m\u001b[1;33m\u001b[0m\u001b[1;33m\u001b[0m\u001b[0m\n\u001b[0;32m    671\u001b[0m   \"\"\"\n\u001b[1;32m--> 672\u001b[1;33m   return _execute_cloud_call(\n\u001b[0m\u001b[0;32m    673\u001b[0m       _get_cloud_api_resource().projects().value().compute(\n\u001b[0;32m    674\u001b[0m           \u001b[0mbody\u001b[0m\u001b[1;33m=\u001b[0m\u001b[1;33m{\u001b[0m\u001b[1;34m'expression'\u001b[0m\u001b[1;33m:\u001b[0m \u001b[0mserializer\u001b[0m\u001b[1;33m.\u001b[0m\u001b[0mencode\u001b[0m\u001b[1;33m(\u001b[0m\u001b[0mobj\u001b[0m\u001b[1;33m,\u001b[0m \u001b[0mfor_cloud_api\u001b[0m\u001b[1;33m=\u001b[0m\u001b[1;32mTrue\u001b[0m\u001b[1;33m)\u001b[0m\u001b[1;33m}\u001b[0m\u001b[1;33m,\u001b[0m\u001b[1;33m\u001b[0m\u001b[1;33m\u001b[0m\u001b[0m\n",
      "\u001b[1;32m~\\Anaconda3\\envs\\satellite\\lib\\site-packages\\ee\\data.py\u001b[0m in \u001b[0;36m_execute_cloud_call\u001b[1;34m(call, num_retries)\u001b[0m\n\u001b[0;32m    332\u001b[0m   \"\"\"\n\u001b[0;32m    333\u001b[0m   \u001b[1;32mtry\u001b[0m\u001b[1;33m:\u001b[0m\u001b[1;33m\u001b[0m\u001b[1;33m\u001b[0m\u001b[0m\n\u001b[1;32m--> 334\u001b[1;33m     \u001b[1;32mreturn\u001b[0m \u001b[0mcall\u001b[0m\u001b[1;33m.\u001b[0m\u001b[0mexecute\u001b[0m\u001b[1;33m(\u001b[0m\u001b[0mnum_retries\u001b[0m\u001b[1;33m=\u001b[0m\u001b[0mnum_retries\u001b[0m\u001b[1;33m)\u001b[0m\u001b[1;33m\u001b[0m\u001b[1;33m\u001b[0m\u001b[0m\n\u001b[0m\u001b[0;32m    335\u001b[0m   \u001b[1;32mexcept\u001b[0m \u001b[0mgoogleapiclient\u001b[0m\u001b[1;33m.\u001b[0m\u001b[0merrors\u001b[0m\u001b[1;33m.\u001b[0m\u001b[0mHttpError\u001b[0m \u001b[1;32mas\u001b[0m \u001b[0me\u001b[0m\u001b[1;33m:\u001b[0m\u001b[1;33m\u001b[0m\u001b[1;33m\u001b[0m\u001b[0m\n\u001b[0;32m    336\u001b[0m     \u001b[1;32mraise\u001b[0m \u001b[0m_translate_cloud_exception\u001b[0m\u001b[1;33m(\u001b[0m\u001b[0me\u001b[0m\u001b[1;33m)\u001b[0m\u001b[1;33m\u001b[0m\u001b[1;33m\u001b[0m\u001b[0m\n",
      "\u001b[1;32m~\\Anaconda3\\envs\\satellite\\lib\\site-packages\\googleapiclient\\_helpers.py\u001b[0m in \u001b[0;36mpositional_wrapper\u001b[1;34m(*args, **kwargs)\u001b[0m\n\u001b[0;32m    132\u001b[0m                 \u001b[1;32melif\u001b[0m \u001b[0mpositional_parameters_enforcement\u001b[0m \u001b[1;33m==\u001b[0m \u001b[0mPOSITIONAL_WARNING\u001b[0m\u001b[1;33m:\u001b[0m\u001b[1;33m\u001b[0m\u001b[1;33m\u001b[0m\u001b[0m\n\u001b[0;32m    133\u001b[0m                     \u001b[0mlogger\u001b[0m\u001b[1;33m.\u001b[0m\u001b[0mwarning\u001b[0m\u001b[1;33m(\u001b[0m\u001b[0mmessage\u001b[0m\u001b[1;33m)\u001b[0m\u001b[1;33m\u001b[0m\u001b[1;33m\u001b[0m\u001b[0m\n\u001b[1;32m--> 134\u001b[1;33m             \u001b[1;32mreturn\u001b[0m \u001b[0mwrapped\u001b[0m\u001b[1;33m(\u001b[0m\u001b[1;33m*\u001b[0m\u001b[0margs\u001b[0m\u001b[1;33m,\u001b[0m \u001b[1;33m**\u001b[0m\u001b[0mkwargs\u001b[0m\u001b[1;33m)\u001b[0m\u001b[1;33m\u001b[0m\u001b[1;33m\u001b[0m\u001b[0m\n\u001b[0m\u001b[0;32m    135\u001b[0m \u001b[1;33m\u001b[0m\u001b[0m\n\u001b[0;32m    136\u001b[0m         \u001b[1;32mreturn\u001b[0m \u001b[0mpositional_wrapper\u001b[0m\u001b[1;33m\u001b[0m\u001b[1;33m\u001b[0m\u001b[0m\n",
      "\u001b[1;32m~\\Anaconda3\\envs\\satellite\\lib\\site-packages\\googleapiclient\\http.py\u001b[0m in \u001b[0;36mexecute\u001b[1;34m(self, http, num_retries)\u001b[0m\n\u001b[0;32m    898\u001b[0m \u001b[1;33m\u001b[0m\u001b[0m\n\u001b[0;32m    899\u001b[0m         \u001b[1;31m# Handle retries for server-side errors.\u001b[0m\u001b[1;33m\u001b[0m\u001b[1;33m\u001b[0m\u001b[0m\n\u001b[1;32m--> 900\u001b[1;33m         resp, content = _retry_request(\n\u001b[0m\u001b[0;32m    901\u001b[0m             \u001b[0mhttp\u001b[0m\u001b[1;33m,\u001b[0m\u001b[1;33m\u001b[0m\u001b[1;33m\u001b[0m\u001b[0m\n\u001b[0;32m    902\u001b[0m             \u001b[0mnum_retries\u001b[0m\u001b[1;33m,\u001b[0m\u001b[1;33m\u001b[0m\u001b[1;33m\u001b[0m\u001b[0m\n",
      "\u001b[1;32m~\\Anaconda3\\envs\\satellite\\lib\\site-packages\\googleapiclient\\http.py\u001b[0m in \u001b[0;36m_retry_request\u001b[1;34m(http, num_retries, req_type, sleep, rand, uri, method, *args, **kwargs)\u001b[0m\n\u001b[0;32m    175\u001b[0m         \u001b[1;32mtry\u001b[0m\u001b[1;33m:\u001b[0m\u001b[1;33m\u001b[0m\u001b[1;33m\u001b[0m\u001b[0m\n\u001b[0;32m    176\u001b[0m             \u001b[0mexception\u001b[0m \u001b[1;33m=\u001b[0m \u001b[1;32mNone\u001b[0m\u001b[1;33m\u001b[0m\u001b[1;33m\u001b[0m\u001b[0m\n\u001b[1;32m--> 177\u001b[1;33m             \u001b[0mresp\u001b[0m\u001b[1;33m,\u001b[0m \u001b[0mcontent\u001b[0m \u001b[1;33m=\u001b[0m \u001b[0mhttp\u001b[0m\u001b[1;33m.\u001b[0m\u001b[0mrequest\u001b[0m\u001b[1;33m(\u001b[0m\u001b[0muri\u001b[0m\u001b[1;33m,\u001b[0m \u001b[0mmethod\u001b[0m\u001b[1;33m,\u001b[0m \u001b[1;33m*\u001b[0m\u001b[0margs\u001b[0m\u001b[1;33m,\u001b[0m \u001b[1;33m**\u001b[0m\u001b[0mkwargs\u001b[0m\u001b[1;33m)\u001b[0m\u001b[1;33m\u001b[0m\u001b[1;33m\u001b[0m\u001b[0m\n\u001b[0m\u001b[0;32m    178\u001b[0m         \u001b[1;31m# Retry on SSL errors and socket timeout errors.\u001b[0m\u001b[1;33m\u001b[0m\u001b[1;33m\u001b[0m\u001b[0m\n\u001b[0;32m    179\u001b[0m         \u001b[1;32mexcept\u001b[0m \u001b[0m_ssl_SSLError\u001b[0m \u001b[1;32mas\u001b[0m \u001b[0mssl_error\u001b[0m\u001b[1;33m:\u001b[0m\u001b[1;33m\u001b[0m\u001b[1;33m\u001b[0m\u001b[0m\n",
      "\u001b[1;32m~\\Anaconda3\\envs\\satellite\\lib\\site-packages\\google_auth_httplib2.py\u001b[0m in \u001b[0;36mrequest\u001b[1;34m(self, uri, method, body, headers, redirections, connection_type, **kwargs)\u001b[0m\n\u001b[0;32m    216\u001b[0m \u001b[1;33m\u001b[0m\u001b[0m\n\u001b[0;32m    217\u001b[0m         \u001b[1;31m# Make the request.\u001b[0m\u001b[1;33m\u001b[0m\u001b[1;33m\u001b[0m\u001b[0m\n\u001b[1;32m--> 218\u001b[1;33m         response, content = self.http.request(\n\u001b[0m\u001b[0;32m    219\u001b[0m             \u001b[0muri\u001b[0m\u001b[1;33m,\u001b[0m\u001b[1;33m\u001b[0m\u001b[1;33m\u001b[0m\u001b[0m\n\u001b[0;32m    220\u001b[0m             \u001b[0mmethod\u001b[0m\u001b[1;33m,\u001b[0m\u001b[1;33m\u001b[0m\u001b[1;33m\u001b[0m\u001b[0m\n",
      "\u001b[1;32m~\\Anaconda3\\envs\\satellite\\lib\\site-packages\\httplib2\\__init__.py\u001b[0m in \u001b[0;36mrequest\u001b[1;34m(self, uri, method, body, headers, redirections, connection_type)\u001b[0m\n\u001b[0;32m   1723\u001b[0m                     \u001b[0mcontent\u001b[0m \u001b[1;33m=\u001b[0m \u001b[1;34mb\"\"\u001b[0m\u001b[1;33m\u001b[0m\u001b[1;33m\u001b[0m\u001b[0m\n\u001b[0;32m   1724\u001b[0m                 \u001b[1;32melse\u001b[0m\u001b[1;33m:\u001b[0m\u001b[1;33m\u001b[0m\u001b[1;33m\u001b[0m\u001b[0m\n\u001b[1;32m-> 1725\u001b[1;33m                     (response, content) = self._request(\n\u001b[0m\u001b[0;32m   1726\u001b[0m                         \u001b[0mconn\u001b[0m\u001b[1;33m,\u001b[0m \u001b[0mauthority\u001b[0m\u001b[1;33m,\u001b[0m \u001b[0muri\u001b[0m\u001b[1;33m,\u001b[0m \u001b[0mrequest_uri\u001b[0m\u001b[1;33m,\u001b[0m \u001b[0mmethod\u001b[0m\u001b[1;33m,\u001b[0m \u001b[0mbody\u001b[0m\u001b[1;33m,\u001b[0m \u001b[0mheaders\u001b[0m\u001b[1;33m,\u001b[0m \u001b[0mredirections\u001b[0m\u001b[1;33m,\u001b[0m \u001b[0mcachekey\u001b[0m\u001b[1;33m,\u001b[0m\u001b[1;33m\u001b[0m\u001b[1;33m\u001b[0m\u001b[0m\n\u001b[0;32m   1727\u001b[0m                     )\n",
      "\u001b[1;32m~\\Anaconda3\\envs\\satellite\\lib\\site-packages\\httplib2\\__init__.py\u001b[0m in \u001b[0;36m_request\u001b[1;34m(self, conn, host, absolute_uri, request_uri, method, body, headers, redirections, cachekey)\u001b[0m\n\u001b[0;32m   1439\u001b[0m             \u001b[0mauth\u001b[0m\u001b[1;33m.\u001b[0m\u001b[0mrequest\u001b[0m\u001b[1;33m(\u001b[0m\u001b[0mmethod\u001b[0m\u001b[1;33m,\u001b[0m \u001b[0mrequest_uri\u001b[0m\u001b[1;33m,\u001b[0m \u001b[0mheaders\u001b[0m\u001b[1;33m,\u001b[0m \u001b[0mbody\u001b[0m\u001b[1;33m)\u001b[0m\u001b[1;33m\u001b[0m\u001b[1;33m\u001b[0m\u001b[0m\n\u001b[0;32m   1440\u001b[0m \u001b[1;33m\u001b[0m\u001b[0m\n\u001b[1;32m-> 1441\u001b[1;33m         \u001b[1;33m(\u001b[0m\u001b[0mresponse\u001b[0m\u001b[1;33m,\u001b[0m \u001b[0mcontent\u001b[0m\u001b[1;33m)\u001b[0m \u001b[1;33m=\u001b[0m \u001b[0mself\u001b[0m\u001b[1;33m.\u001b[0m\u001b[0m_conn_request\u001b[0m\u001b[1;33m(\u001b[0m\u001b[0mconn\u001b[0m\u001b[1;33m,\u001b[0m \u001b[0mrequest_uri\u001b[0m\u001b[1;33m,\u001b[0m \u001b[0mmethod\u001b[0m\u001b[1;33m,\u001b[0m \u001b[0mbody\u001b[0m\u001b[1;33m,\u001b[0m \u001b[0mheaders\u001b[0m\u001b[1;33m)\u001b[0m\u001b[1;33m\u001b[0m\u001b[1;33m\u001b[0m\u001b[0m\n\u001b[0m\u001b[0;32m   1442\u001b[0m \u001b[1;33m\u001b[0m\u001b[0m\n\u001b[0;32m   1443\u001b[0m         \u001b[1;32mif\u001b[0m \u001b[0mauth\u001b[0m\u001b[1;33m:\u001b[0m\u001b[1;33m\u001b[0m\u001b[1;33m\u001b[0m\u001b[0m\n",
      "\u001b[1;32m~\\Anaconda3\\envs\\satellite\\lib\\site-packages\\httplib2shim\\__init__.py\u001b[0m in \u001b[0;36m_conn_request\u001b[1;34m(self, conn, request_uri, method, body, headers)\u001b[0m\n\u001b[0;32m    138\u001b[0m \u001b[1;33m\u001b[0m\u001b[0m\n\u001b[0;32m    139\u001b[0m         \u001b[1;32mtry\u001b[0m\u001b[1;33m:\u001b[0m\u001b[1;33m\u001b[0m\u001b[1;33m\u001b[0m\u001b[0m\n\u001b[1;32m--> 140\u001b[1;33m             urllib3_response = self.pool.request(\n\u001b[0m\u001b[0;32m    141\u001b[0m                 \u001b[0mmethod\u001b[0m\u001b[1;33m,\u001b[0m\u001b[1;33m\u001b[0m\u001b[1;33m\u001b[0m\u001b[0m\n\u001b[0;32m    142\u001b[0m                 \u001b[0mfull_uri\u001b[0m\u001b[1;33m,\u001b[0m\u001b[1;33m\u001b[0m\u001b[1;33m\u001b[0m\u001b[0m\n",
      "\u001b[1;32m~\\Anaconda3\\envs\\satellite\\lib\\site-packages\\urllib3\\request.py\u001b[0m in \u001b[0;36mrequest\u001b[1;34m(self, method, url, fields, headers, **urlopen_kw)\u001b[0m\n\u001b[0;32m     76\u001b[0m             )\n\u001b[0;32m     77\u001b[0m         \u001b[1;32melse\u001b[0m\u001b[1;33m:\u001b[0m\u001b[1;33m\u001b[0m\u001b[1;33m\u001b[0m\u001b[0m\n\u001b[1;32m---> 78\u001b[1;33m             return self.request_encode_body(\n\u001b[0m\u001b[0;32m     79\u001b[0m                 \u001b[0mmethod\u001b[0m\u001b[1;33m,\u001b[0m \u001b[0murl\u001b[0m\u001b[1;33m,\u001b[0m \u001b[0mfields\u001b[0m\u001b[1;33m=\u001b[0m\u001b[0mfields\u001b[0m\u001b[1;33m,\u001b[0m \u001b[0mheaders\u001b[0m\u001b[1;33m=\u001b[0m\u001b[0mheaders\u001b[0m\u001b[1;33m,\u001b[0m \u001b[1;33m**\u001b[0m\u001b[0murlopen_kw\u001b[0m\u001b[1;33m\u001b[0m\u001b[1;33m\u001b[0m\u001b[0m\n\u001b[0;32m     80\u001b[0m             )\n",
      "\u001b[1;32m~\\Anaconda3\\envs\\satellite\\lib\\site-packages\\urllib3\\request.py\u001b[0m in \u001b[0;36mrequest_encode_body\u001b[1;34m(self, method, url, fields, headers, encode_multipart, multipart_boundary, **urlopen_kw)\u001b[0m\n\u001b[0;32m    168\u001b[0m         \u001b[0mextra_kw\u001b[0m\u001b[1;33m.\u001b[0m\u001b[0mupdate\u001b[0m\u001b[1;33m(\u001b[0m\u001b[0murlopen_kw\u001b[0m\u001b[1;33m)\u001b[0m\u001b[1;33m\u001b[0m\u001b[1;33m\u001b[0m\u001b[0m\n\u001b[0;32m    169\u001b[0m \u001b[1;33m\u001b[0m\u001b[0m\n\u001b[1;32m--> 170\u001b[1;33m         \u001b[1;32mreturn\u001b[0m \u001b[0mself\u001b[0m\u001b[1;33m.\u001b[0m\u001b[0murlopen\u001b[0m\u001b[1;33m(\u001b[0m\u001b[0mmethod\u001b[0m\u001b[1;33m,\u001b[0m \u001b[0murl\u001b[0m\u001b[1;33m,\u001b[0m \u001b[1;33m**\u001b[0m\u001b[0mextra_kw\u001b[0m\u001b[1;33m)\u001b[0m\u001b[1;33m\u001b[0m\u001b[1;33m\u001b[0m\u001b[0m\n\u001b[0m",
      "\u001b[1;32m~\\Anaconda3\\envs\\satellite\\lib\\site-packages\\urllib3\\poolmanager.py\u001b[0m in \u001b[0;36murlopen\u001b[1;34m(self, method, url, redirect, **kw)\u001b[0m\n\u001b[0;32m    373\u001b[0m             \u001b[0mresponse\u001b[0m \u001b[1;33m=\u001b[0m \u001b[0mconn\u001b[0m\u001b[1;33m.\u001b[0m\u001b[0murlopen\u001b[0m\u001b[1;33m(\u001b[0m\u001b[0mmethod\u001b[0m\u001b[1;33m,\u001b[0m \u001b[0murl\u001b[0m\u001b[1;33m,\u001b[0m \u001b[1;33m**\u001b[0m\u001b[0mkw\u001b[0m\u001b[1;33m)\u001b[0m\u001b[1;33m\u001b[0m\u001b[1;33m\u001b[0m\u001b[0m\n\u001b[0;32m    374\u001b[0m         \u001b[1;32melse\u001b[0m\u001b[1;33m:\u001b[0m\u001b[1;33m\u001b[0m\u001b[1;33m\u001b[0m\u001b[0m\n\u001b[1;32m--> 375\u001b[1;33m             \u001b[0mresponse\u001b[0m \u001b[1;33m=\u001b[0m \u001b[0mconn\u001b[0m\u001b[1;33m.\u001b[0m\u001b[0murlopen\u001b[0m\u001b[1;33m(\u001b[0m\u001b[0mmethod\u001b[0m\u001b[1;33m,\u001b[0m \u001b[0mu\u001b[0m\u001b[1;33m.\u001b[0m\u001b[0mrequest_uri\u001b[0m\u001b[1;33m,\u001b[0m \u001b[1;33m**\u001b[0m\u001b[0mkw\u001b[0m\u001b[1;33m)\u001b[0m\u001b[1;33m\u001b[0m\u001b[1;33m\u001b[0m\u001b[0m\n\u001b[0m\u001b[0;32m    376\u001b[0m \u001b[1;33m\u001b[0m\u001b[0m\n\u001b[0;32m    377\u001b[0m         \u001b[0mredirect_location\u001b[0m \u001b[1;33m=\u001b[0m \u001b[0mredirect\u001b[0m \u001b[1;32mand\u001b[0m \u001b[0mresponse\u001b[0m\u001b[1;33m.\u001b[0m\u001b[0mget_redirect_location\u001b[0m\u001b[1;33m(\u001b[0m\u001b[1;33m)\u001b[0m\u001b[1;33m\u001b[0m\u001b[1;33m\u001b[0m\u001b[0m\n",
      "\u001b[1;32m~\\Anaconda3\\envs\\satellite\\lib\\site-packages\\urllib3\\connectionpool.py\u001b[0m in \u001b[0;36murlopen\u001b[1;34m(self, method, url, body, headers, retries, redirect, assert_same_host, timeout, pool_timeout, release_conn, chunked, body_pos, **response_kw)\u001b[0m\n\u001b[0;32m    697\u001b[0m \u001b[1;33m\u001b[0m\u001b[0m\n\u001b[0;32m    698\u001b[0m             \u001b[1;31m# Make the request on the httplib connection object.\u001b[0m\u001b[1;33m\u001b[0m\u001b[1;33m\u001b[0m\u001b[0m\n\u001b[1;32m--> 699\u001b[1;33m             httplib_response = self._make_request(\n\u001b[0m\u001b[0;32m    700\u001b[0m                 \u001b[0mconn\u001b[0m\u001b[1;33m,\u001b[0m\u001b[1;33m\u001b[0m\u001b[1;33m\u001b[0m\u001b[0m\n\u001b[0;32m    701\u001b[0m                 \u001b[0mmethod\u001b[0m\u001b[1;33m,\u001b[0m\u001b[1;33m\u001b[0m\u001b[1;33m\u001b[0m\u001b[0m\n",
      "\u001b[1;32m~\\Anaconda3\\envs\\satellite\\lib\\site-packages\\urllib3\\connectionpool.py\u001b[0m in \u001b[0;36m_make_request\u001b[1;34m(self, conn, method, url, timeout, chunked, **httplib_request_kw)\u001b[0m\n\u001b[0;32m    443\u001b[0m                     \u001b[1;31m# Python 3 (including for exceptions like SystemExit).\u001b[0m\u001b[1;33m\u001b[0m\u001b[1;33m\u001b[0m\u001b[0m\n\u001b[0;32m    444\u001b[0m                     \u001b[1;31m# Otherwise it looks like a bug in the code.\u001b[0m\u001b[1;33m\u001b[0m\u001b[1;33m\u001b[0m\u001b[0m\n\u001b[1;32m--> 445\u001b[1;33m                     \u001b[0msix\u001b[0m\u001b[1;33m.\u001b[0m\u001b[0mraise_from\u001b[0m\u001b[1;33m(\u001b[0m\u001b[0me\u001b[0m\u001b[1;33m,\u001b[0m \u001b[1;32mNone\u001b[0m\u001b[1;33m)\u001b[0m\u001b[1;33m\u001b[0m\u001b[1;33m\u001b[0m\u001b[0m\n\u001b[0m\u001b[0;32m    446\u001b[0m         \u001b[1;32mexcept\u001b[0m \u001b[1;33m(\u001b[0m\u001b[0mSocketTimeout\u001b[0m\u001b[1;33m,\u001b[0m \u001b[0mBaseSSLError\u001b[0m\u001b[1;33m,\u001b[0m \u001b[0mSocketError\u001b[0m\u001b[1;33m)\u001b[0m \u001b[1;32mas\u001b[0m \u001b[0me\u001b[0m\u001b[1;33m:\u001b[0m\u001b[1;33m\u001b[0m\u001b[1;33m\u001b[0m\u001b[0m\n\u001b[0;32m    447\u001b[0m             \u001b[0mself\u001b[0m\u001b[1;33m.\u001b[0m\u001b[0m_raise_timeout\u001b[0m\u001b[1;33m(\u001b[0m\u001b[0merr\u001b[0m\u001b[1;33m=\u001b[0m\u001b[0me\u001b[0m\u001b[1;33m,\u001b[0m \u001b[0murl\u001b[0m\u001b[1;33m=\u001b[0m\u001b[0murl\u001b[0m\u001b[1;33m,\u001b[0m \u001b[0mtimeout_value\u001b[0m\u001b[1;33m=\u001b[0m\u001b[0mread_timeout\u001b[0m\u001b[1;33m)\u001b[0m\u001b[1;33m\u001b[0m\u001b[1;33m\u001b[0m\u001b[0m\n",
      "\u001b[1;32m~\\Anaconda3\\envs\\satellite\\lib\\site-packages\\urllib3\\packages\\six.py\u001b[0m in \u001b[0;36mraise_from\u001b[1;34m(value, from_value)\u001b[0m\n",
      "\u001b[1;32m~\\Anaconda3\\envs\\satellite\\lib\\site-packages\\urllib3\\connectionpool.py\u001b[0m in \u001b[0;36m_make_request\u001b[1;34m(self, conn, method, url, timeout, chunked, **httplib_request_kw)\u001b[0m\n\u001b[0;32m    438\u001b[0m                 \u001b[1;31m# Python 3\u001b[0m\u001b[1;33m\u001b[0m\u001b[1;33m\u001b[0m\u001b[0m\n\u001b[0;32m    439\u001b[0m                 \u001b[1;32mtry\u001b[0m\u001b[1;33m:\u001b[0m\u001b[1;33m\u001b[0m\u001b[1;33m\u001b[0m\u001b[0m\n\u001b[1;32m--> 440\u001b[1;33m                     \u001b[0mhttplib_response\u001b[0m \u001b[1;33m=\u001b[0m \u001b[0mconn\u001b[0m\u001b[1;33m.\u001b[0m\u001b[0mgetresponse\u001b[0m\u001b[1;33m(\u001b[0m\u001b[1;33m)\u001b[0m\u001b[1;33m\u001b[0m\u001b[1;33m\u001b[0m\u001b[0m\n\u001b[0m\u001b[0;32m    441\u001b[0m                 \u001b[1;32mexcept\u001b[0m \u001b[0mBaseException\u001b[0m \u001b[1;32mas\u001b[0m \u001b[0me\u001b[0m\u001b[1;33m:\u001b[0m\u001b[1;33m\u001b[0m\u001b[1;33m\u001b[0m\u001b[0m\n\u001b[0;32m    442\u001b[0m                     \u001b[1;31m# Remove the TypeError from the exception chain in\u001b[0m\u001b[1;33m\u001b[0m\u001b[1;33m\u001b[0m\u001b[0m\n",
      "\u001b[1;32m~\\Anaconda3\\envs\\satellite\\lib\\http\\client.py\u001b[0m in \u001b[0;36mgetresponse\u001b[1;34m(self)\u001b[0m\n\u001b[0;32m   1369\u001b[0m         \u001b[1;32mtry\u001b[0m\u001b[1;33m:\u001b[0m\u001b[1;33m\u001b[0m\u001b[1;33m\u001b[0m\u001b[0m\n\u001b[0;32m   1370\u001b[0m             \u001b[1;32mtry\u001b[0m\u001b[1;33m:\u001b[0m\u001b[1;33m\u001b[0m\u001b[1;33m\u001b[0m\u001b[0m\n\u001b[1;32m-> 1371\u001b[1;33m                 \u001b[0mresponse\u001b[0m\u001b[1;33m.\u001b[0m\u001b[0mbegin\u001b[0m\u001b[1;33m(\u001b[0m\u001b[1;33m)\u001b[0m\u001b[1;33m\u001b[0m\u001b[1;33m\u001b[0m\u001b[0m\n\u001b[0m\u001b[0;32m   1372\u001b[0m             \u001b[1;32mexcept\u001b[0m \u001b[0mConnectionError\u001b[0m\u001b[1;33m:\u001b[0m\u001b[1;33m\u001b[0m\u001b[1;33m\u001b[0m\u001b[0m\n\u001b[0;32m   1373\u001b[0m                 \u001b[0mself\u001b[0m\u001b[1;33m.\u001b[0m\u001b[0mclose\u001b[0m\u001b[1;33m(\u001b[0m\u001b[1;33m)\u001b[0m\u001b[1;33m\u001b[0m\u001b[1;33m\u001b[0m\u001b[0m\n",
      "\u001b[1;32m~\\Anaconda3\\envs\\satellite\\lib\\http\\client.py\u001b[0m in \u001b[0;36mbegin\u001b[1;34m(self)\u001b[0m\n\u001b[0;32m    317\u001b[0m         \u001b[1;31m# read until we get a non-100 response\u001b[0m\u001b[1;33m\u001b[0m\u001b[1;33m\u001b[0m\u001b[0m\n\u001b[0;32m    318\u001b[0m         \u001b[1;32mwhile\u001b[0m \u001b[1;32mTrue\u001b[0m\u001b[1;33m:\u001b[0m\u001b[1;33m\u001b[0m\u001b[1;33m\u001b[0m\u001b[0m\n\u001b[1;32m--> 319\u001b[1;33m             \u001b[0mversion\u001b[0m\u001b[1;33m,\u001b[0m \u001b[0mstatus\u001b[0m\u001b[1;33m,\u001b[0m \u001b[0mreason\u001b[0m \u001b[1;33m=\u001b[0m \u001b[0mself\u001b[0m\u001b[1;33m.\u001b[0m\u001b[0m_read_status\u001b[0m\u001b[1;33m(\u001b[0m\u001b[1;33m)\u001b[0m\u001b[1;33m\u001b[0m\u001b[1;33m\u001b[0m\u001b[0m\n\u001b[0m\u001b[0;32m    320\u001b[0m             \u001b[1;32mif\u001b[0m \u001b[0mstatus\u001b[0m \u001b[1;33m!=\u001b[0m \u001b[0mCONTINUE\u001b[0m\u001b[1;33m:\u001b[0m\u001b[1;33m\u001b[0m\u001b[1;33m\u001b[0m\u001b[0m\n\u001b[0;32m    321\u001b[0m                 \u001b[1;32mbreak\u001b[0m\u001b[1;33m\u001b[0m\u001b[1;33m\u001b[0m\u001b[0m\n",
      "\u001b[1;32m~\\Anaconda3\\envs\\satellite\\lib\\http\\client.py\u001b[0m in \u001b[0;36m_read_status\u001b[1;34m(self)\u001b[0m\n\u001b[0;32m    278\u001b[0m \u001b[1;33m\u001b[0m\u001b[0m\n\u001b[0;32m    279\u001b[0m     \u001b[1;32mdef\u001b[0m \u001b[0m_read_status\u001b[0m\u001b[1;33m(\u001b[0m\u001b[0mself\u001b[0m\u001b[1;33m)\u001b[0m\u001b[1;33m:\u001b[0m\u001b[1;33m\u001b[0m\u001b[1;33m\u001b[0m\u001b[0m\n\u001b[1;32m--> 280\u001b[1;33m         \u001b[0mline\u001b[0m \u001b[1;33m=\u001b[0m \u001b[0mstr\u001b[0m\u001b[1;33m(\u001b[0m\u001b[0mself\u001b[0m\u001b[1;33m.\u001b[0m\u001b[0mfp\u001b[0m\u001b[1;33m.\u001b[0m\u001b[0mreadline\u001b[0m\u001b[1;33m(\u001b[0m\u001b[0m_MAXLINE\u001b[0m \u001b[1;33m+\u001b[0m \u001b[1;36m1\u001b[0m\u001b[1;33m)\u001b[0m\u001b[1;33m,\u001b[0m \u001b[1;34m\"iso-8859-1\"\u001b[0m\u001b[1;33m)\u001b[0m\u001b[1;33m\u001b[0m\u001b[1;33m\u001b[0m\u001b[0m\n\u001b[0m\u001b[0;32m    281\u001b[0m         \u001b[1;32mif\u001b[0m \u001b[0mlen\u001b[0m\u001b[1;33m(\u001b[0m\u001b[0mline\u001b[0m\u001b[1;33m)\u001b[0m \u001b[1;33m>\u001b[0m \u001b[0m_MAXLINE\u001b[0m\u001b[1;33m:\u001b[0m\u001b[1;33m\u001b[0m\u001b[1;33m\u001b[0m\u001b[0m\n\u001b[0;32m    282\u001b[0m             \u001b[1;32mraise\u001b[0m \u001b[0mLineTooLong\u001b[0m\u001b[1;33m(\u001b[0m\u001b[1;34m\"status line\"\u001b[0m\u001b[1;33m)\u001b[0m\u001b[1;33m\u001b[0m\u001b[1;33m\u001b[0m\u001b[0m\n",
      "\u001b[1;32m~\\Anaconda3\\envs\\satellite\\lib\\socket.py\u001b[0m in \u001b[0;36mreadinto\u001b[1;34m(self, b)\u001b[0m\n\u001b[0;32m    702\u001b[0m         \u001b[1;32mwhile\u001b[0m \u001b[1;32mTrue\u001b[0m\u001b[1;33m:\u001b[0m\u001b[1;33m\u001b[0m\u001b[1;33m\u001b[0m\u001b[0m\n\u001b[0;32m    703\u001b[0m             \u001b[1;32mtry\u001b[0m\u001b[1;33m:\u001b[0m\u001b[1;33m\u001b[0m\u001b[1;33m\u001b[0m\u001b[0m\n\u001b[1;32m--> 704\u001b[1;33m                 \u001b[1;32mreturn\u001b[0m \u001b[0mself\u001b[0m\u001b[1;33m.\u001b[0m\u001b[0m_sock\u001b[0m\u001b[1;33m.\u001b[0m\u001b[0mrecv_into\u001b[0m\u001b[1;33m(\u001b[0m\u001b[0mb\u001b[0m\u001b[1;33m)\u001b[0m\u001b[1;33m\u001b[0m\u001b[1;33m\u001b[0m\u001b[0m\n\u001b[0m\u001b[0;32m    705\u001b[0m             \u001b[1;32mexcept\u001b[0m \u001b[0mtimeout\u001b[0m\u001b[1;33m:\u001b[0m\u001b[1;33m\u001b[0m\u001b[1;33m\u001b[0m\u001b[0m\n\u001b[0;32m    706\u001b[0m                 \u001b[0mself\u001b[0m\u001b[1;33m.\u001b[0m\u001b[0m_timeout_occurred\u001b[0m \u001b[1;33m=\u001b[0m \u001b[1;32mTrue\u001b[0m\u001b[1;33m\u001b[0m\u001b[1;33m\u001b[0m\u001b[0m\n",
      "\u001b[1;32m~\\Anaconda3\\envs\\satellite\\lib\\ssl.py\u001b[0m in \u001b[0;36mrecv_into\u001b[1;34m(self, buffer, nbytes, flags)\u001b[0m\n\u001b[0;32m   1239\u001b[0m                   \u001b[1;34m\"non-zero flags not allowed in calls to recv_into() on %s\"\u001b[0m \u001b[1;33m%\u001b[0m\u001b[1;33m\u001b[0m\u001b[1;33m\u001b[0m\u001b[0m\n\u001b[0;32m   1240\u001b[0m                   self.__class__)\n\u001b[1;32m-> 1241\u001b[1;33m             \u001b[1;32mreturn\u001b[0m \u001b[0mself\u001b[0m\u001b[1;33m.\u001b[0m\u001b[0mread\u001b[0m\u001b[1;33m(\u001b[0m\u001b[0mnbytes\u001b[0m\u001b[1;33m,\u001b[0m \u001b[0mbuffer\u001b[0m\u001b[1;33m)\u001b[0m\u001b[1;33m\u001b[0m\u001b[1;33m\u001b[0m\u001b[0m\n\u001b[0m\u001b[0;32m   1242\u001b[0m         \u001b[1;32melse\u001b[0m\u001b[1;33m:\u001b[0m\u001b[1;33m\u001b[0m\u001b[1;33m\u001b[0m\u001b[0m\n\u001b[0;32m   1243\u001b[0m             \u001b[1;32mreturn\u001b[0m \u001b[0msuper\u001b[0m\u001b[1;33m(\u001b[0m\u001b[1;33m)\u001b[0m\u001b[1;33m.\u001b[0m\u001b[0mrecv_into\u001b[0m\u001b[1;33m(\u001b[0m\u001b[0mbuffer\u001b[0m\u001b[1;33m,\u001b[0m \u001b[0mnbytes\u001b[0m\u001b[1;33m,\u001b[0m \u001b[0mflags\u001b[0m\u001b[1;33m)\u001b[0m\u001b[1;33m\u001b[0m\u001b[1;33m\u001b[0m\u001b[0m\n",
      "\u001b[1;32m~\\Anaconda3\\envs\\satellite\\lib\\ssl.py\u001b[0m in \u001b[0;36mread\u001b[1;34m(self, len, buffer)\u001b[0m\n\u001b[0;32m   1097\u001b[0m         \u001b[1;32mtry\u001b[0m\u001b[1;33m:\u001b[0m\u001b[1;33m\u001b[0m\u001b[1;33m\u001b[0m\u001b[0m\n\u001b[0;32m   1098\u001b[0m             \u001b[1;32mif\u001b[0m \u001b[0mbuffer\u001b[0m \u001b[1;32mis\u001b[0m \u001b[1;32mnot\u001b[0m \u001b[1;32mNone\u001b[0m\u001b[1;33m:\u001b[0m\u001b[1;33m\u001b[0m\u001b[1;33m\u001b[0m\u001b[0m\n\u001b[1;32m-> 1099\u001b[1;33m                 \u001b[1;32mreturn\u001b[0m \u001b[0mself\u001b[0m\u001b[1;33m.\u001b[0m\u001b[0m_sslobj\u001b[0m\u001b[1;33m.\u001b[0m\u001b[0mread\u001b[0m\u001b[1;33m(\u001b[0m\u001b[0mlen\u001b[0m\u001b[1;33m,\u001b[0m \u001b[0mbuffer\u001b[0m\u001b[1;33m)\u001b[0m\u001b[1;33m\u001b[0m\u001b[1;33m\u001b[0m\u001b[0m\n\u001b[0m\u001b[0;32m   1100\u001b[0m             \u001b[1;32melse\u001b[0m\u001b[1;33m:\u001b[0m\u001b[1;33m\u001b[0m\u001b[1;33m\u001b[0m\u001b[0m\n\u001b[0;32m   1101\u001b[0m                 \u001b[1;32mreturn\u001b[0m \u001b[0mself\u001b[0m\u001b[1;33m.\u001b[0m\u001b[0m_sslobj\u001b[0m\u001b[1;33m.\u001b[0m\u001b[0mread\u001b[0m\u001b[1;33m(\u001b[0m\u001b[0mlen\u001b[0m\u001b[1;33m)\u001b[0m\u001b[1;33m\u001b[0m\u001b[1;33m\u001b[0m\u001b[0m\n",
      "\u001b[1;31mKeyboardInterrupt\u001b[0m: "
     ]
    }
   ],
   "source": [
    "import time\n",
    "import traceback\n",
    "cached_ids = get_cached_ids()\n",
    "\n",
    "\n",
    "def get_image_for_leak(i, cached_ids=cached_ids):\n",
    "    leak = leaks.loc[[i]]\n",
    "    repo_date_ts = arrow.get(leak.reportdate.values[0]).timestamp()\n",
    "    \n",
    "    # crappy way or recording that we tried this one\n",
    "    workorderid = leak.workorderid.values[0]\n",
    "    if workorderid in cached_ids:\n",
    "        logger.info('Skipping cached download for leak id %s ',workorderid)\n",
    "        return\n",
    "    \n",
    "    boundary = get_boundary(leak, distance=distance)\n",
    "    \n",
    "    # get image day before    \n",
    "    sentinel2_before = (ee.ImageCollection(satellite)\n",
    "                        .filterBounds(boundary)\n",
    "                        .filterDate((repo_date_ts-time_before)*1000,(repo_date_ts+time_before)*1000)\n",
    "                        #.filterMetadata('CLOUDY_PIXEL_PERCENTAGE','less_than',cloudy_percentage)\n",
    "                        .sort('system:time_start', opt_ascending=False) # first will be latest\n",
    "                       )\n",
    "    \n",
    "    results = sentinel2_before.size().getInfo()\n",
    "    if results<1:\n",
    "        logger.info('Error no results for day before %s',workorderid)\n",
    "        cached_ids = init_cache(str(workorderid)) # so we know there where no results\n",
    "        return\n",
    "        \n",
    "    # get image day after\n",
    "    sentinel2_after = (ee.ImageCollection(satellite)\n",
    "                       .filterBounds(boundary)\n",
    "                       .filterDate((repo_date_ts+time_after)*1000,(repo_date_ts+time_after*2)*1000)\n",
    "                       #.filterMetadata('CLOUDY_PIXEL_PERCENTAGE','less_than',cloudy_percentage)\n",
    "                       .sort('system:time_start', opt_ascending=True) # first will be earliest\n",
    "                      )\n",
    "        \n",
    "    results = sentinel2_after.size().getInfo()\n",
    "    if results<1:\n",
    "        logger.info('Error no results for day after, id %s',workorderid)\n",
    "        cached_ids = init_cache(str(workorderid)) # so we know there where no results\n",
    "        return\n",
    "        \n",
    "    # download as save images    \n",
    "    logger.info('results for %s', workorderid)\n",
    "    image = ee.Image(sentinel2_before.first()).clip(boundary)\n",
    "    name=str(workorderid)+'_before'\n",
    "    path,files=download_image(\n",
    "        image, \n",
    "        scale=resolution_min, \n",
    "        crs=crs_grid, \n",
    "        name=name,\n",
    "        cache_dir=cache_dir\n",
    "    )\n",
    "    # also save metadata so we can filter by date\n",
    "    with open(path.joinpath('metadata.json'), 'w') as fo:\n",
    "        metadata = dict(\n",
    "            image=image.getInfo(),\n",
    "            scale=resolution_min,\n",
    "            crs=crs_grid,\n",
    "            name=name,\n",
    "            distance=distance,\n",
    "            leak=json.loads(leak.to_json())\n",
    "        )\n",
    "        json.dump(metadata, fo)\n",
    "\n",
    "    image = ee.Image(sentinel2_after.first()).clip(boundary)\n",
    "    name=str(workorderid)+'_after'\n",
    "    path,files=download_image(\n",
    "        image, \n",
    "        scale=resolution_min, \n",
    "        crs=crs_grid, \n",
    "        name=name,\n",
    "        cache_dir=cache_dir\n",
    "    )\n",
    "    with open(path.joinpath('metadata.json'), 'w') as fo:\n",
    "        metadata = dict(\n",
    "            image=image.getInfo(),\n",
    "            scale=resolution_min,\n",
    "            crs=crs_grid,\n",
    "            name=name,\n",
    "            distance=distance,\n",
    "            leak=json.loads(leak.to_json())\n",
    "        )\n",
    "        json.dump(metadata, fo)\n",
    "    cached_ids = init_cache(str(workorderid)) # so we know there where results\n",
    "    return\n",
    "\n",
    "leak_to_scrape = set(leaks.workorderid).difference(set(cached_ids))\n",
    "for i in tqdm(leak_to_scrape):\n",
    "    try:\n",
    "        get_image_for_leak(i)\n",
    "    except urllib.error.HTTPError as e:\n",
    "        print(i,e) # \"HTTP Error 429: unknown\"\n",
    "        traceback.print_stack()\n",
    "        if e.code == 429:\n",
    "            print('sleep for 13s')\n",
    "            time.sleep(13);\n",
    "    except ee.ee_exception.EEException as e:\n",
    "        print(i,e) # \"Earth Engine memory capacity exceeded.\"\n",
    "        traceback.print_stack()\n",
    "        ee.Initialize()\n",
    "    except zipfile.BadZipFile as e:\n",
    "        print(i,e) # \"File is not a zip file\"\n",
    "        traceback.print_stack()\n",
    "    except Exception as e:\n",
    "        print(i,e)\n",
    "        traceback.print_stack()"
   ]
  },
  {
   "cell_type": "code",
   "execution_count": null,
   "metadata": {},
   "outputs": [],
   "source": []
  },
  {
   "cell_type": "markdown",
   "metadata": {},
   "source": [
    "# Load Tiffs to Arrays"
   ]
  },
  {
   "cell_type": "code",
   "execution_count": null,
   "metadata": {
    "ExecuteTime": {
     "end_time": "2017-03-20T06:54:54.295929Z",
     "start_time": "2017-03-20T13:49:03.076436+08:00"
    },
    "scrolled": true
   },
   "outputs": [],
   "source": [
    "# This loads it as X and y for machine learning, and also time and metadata so we can filter\n",
    "import shapely\n",
    "X = []\n",
    "y = []\n",
    "t = []\n",
    "m = []\n",
    "discarded=[]\n",
    "for path in tqdm(cache_dir.listdir()):\n",
    "    files = [file.relpath(path) for file in path.listdir() if file.endswith('.tif')]\n",
    "    if files:\n",
    "        # check metadata\n",
    "        try:\n",
    "            metadata = json.load(open(path.joinpath('metadata.json')))\n",
    "        except (FileNotFoundError, ValueError) as e:\n",
    "            path.move(path.replace(path.basename(),'.deleteme-'+str(uuid.uuid4())))\n",
    "            if '_after_' in path: # also delete the before path                \n",
    "                path_after = Path(path.replace('_after_','_before_'))\n",
    "                if path_after.isdir():\n",
    "                    path_after.move(path.replace(path.basename(),'.deleteme-'+str(uuid.uuid4())))\n",
    "            logger.error('Invalid metadata.json, deleted folder %s, please rerun scraping cell to rescrape this image', path)\n",
    "            continue\n",
    "        \n",
    "        # e.g. lets filter it so \"before\" image are only 1 day before\n",
    "        if '_before_' in path.basename():\n",
    "            yy = True\n",
    "        else:\n",
    "            yy = False\n",
    "        \n",
    "        # work out time gap too\n",
    "        t1 = arrow.get(metadata['image']['properties']['system:time_end']/1000)\n",
    "        t0 = arrow.get(metadata['leak']['features'][0]['properties']['reportdate'])\n",
    "        td=t1-t0\n",
    "        tt = td.total_seconds()\n",
    "        \n",
    "        # load data\n",
    "        data = tifs2np(path,files,bands=bands)\n",
    "             \n",
    "        # check we don't have empty bands 1-13\n",
    "        empty_bands = np.array([d.sum() for d in data])==0\n",
    "        \n",
    "        # lets check we didn't get the edge of an image\n",
    "        bbox = np.array(metadata['image']['properties']['system:footprint']['coordinates'][0])\n",
    "        loc = metadata['leak']['features'][0]['geometry']['coordinates']\n",
    "        minx=bbox[:,0].min()\n",
    "        maxx=bbox[:,0].max()\n",
    "        miny=bbox[:,1].min()\n",
    "        maxy=bbox[:,1].max()\n",
    "        bbox_shp = shapely.geometry.box(\n",
    "            minx=minx,\n",
    "            maxx=maxx,\n",
    "            miny=miny,\n",
    "            maxy=maxy\n",
    "        )\n",
    "        loc_shp = shapely.geometry.Point(loc[0],loc[1])\n",
    "        shapely.geometry.GeometryCollection([bbox_shp, loc_shp])\n",
    "        try:\n",
    "            print(data.shape)\n",
    "            assert loc_shp.intersects(bbox_shp), 'leak location should be inside image'\n",
    "            assert bbox_shp.centroid.almost_equals(loc_shp, decimal=5), 'leak should be near center of image'\n",
    "            assert (np.array([d.shape for d in data])==pixel_length).all(), 'image area should be the right amount of pixels'\n",
    "            #assert (maxx-minx)/(maxy-miny)<1.3, 'should be roughly square'\n",
    "            #assert (maxx-minx)/(maxy-miny)>0.7, 'should be roughly square'\n",
    "            assert not empty_bands.all(), 'should not have all bands empty'\n",
    "        except Exception as exc:\n",
    "            print(path, exc)\n",
    "#             raise(exc)\n",
    "            discarded.append(path)\n",
    "        else:\n",
    "            X.append(data)\n",
    "            y.append(yy)\n",
    "            t.append(tt)\n",
    "            m.append(metadata)\n",
    "        \n",
    "\n",
    "len(X), len(discarded)"
   ]
  },
  {
   "cell_type": "code",
   "execution_count": null,
   "metadata": {
    "ExecuteTime": {
     "end_time": "2017-03-20T05:48:19.175469Z",
     "start_time": "2017-03-20T13:48:07.994632+08:00"
    }
   },
   "outputs": [],
   "source": []
  },
  {
   "cell_type": "code",
   "execution_count": null,
   "metadata": {
    "ExecuteTime": {
     "end_time": "2017-03-20T07:48:45.456224Z",
     "start_time": "2017-03-20T15:48:45.389047+08:00"
    }
   },
   "outputs": [],
   "source": [
    "# shuffle\n",
    "from sklearn.utils import shuffle\n",
    "X,y,m,t = shuffle(X,y,m,t,random_state=1337)"
   ]
  },
  {
   "cell_type": "code",
   "execution_count": null,
   "metadata": {
    "ExecuteTime": {
     "start_time": "2017-03-20T07:48:45.667Z"
    }
   },
   "outputs": [],
   "source": [
    "# save using hdf5 (so keras can easily load it) and json \n",
    "import h5py\n",
    "h5file = output_dir.joinpath('data.h5')\n",
    "with h5py.File(h5file, 'w') as h5f:\n",
    "    h5f.create_dataset('X', data=X)\n",
    "    h5f.create_dataset('y', data=y)\n",
    "    h5f.create_dataset('t', data=t)\n",
    "\n",
    "json.dump(m,open(output_dir.joinpath('data_metadata.json'),'w'))\n",
    "\n",
    "with open(output_dir.joinpath('readme.md'),'w') as fo:\n",
    "    fo. write(\"\"\"\n",
    "Files:\n",
    "- ee_ee_scraping_earth_engine_sentinel_2-austin_leaks- cached tiff files\n",
    "- script_metadata.json - information on scraping script\n",
    "- data.h5 contains X, y, and t.\n",
    "    - X: tiff files for each band loaded into an array of shape (Leak, Bands, width, length)\n",
    "    - y: True for before the leak, False for after\n",
    "    - t: time before leak (can be negative) in seconds\n",
    "- data_metadata: array of metadata for each leak in X. Each contain info on leak, image, and image search\n",
    "    \n",
    "Loading: \n",
    "```py\n",
    "# load\n",
    "metadatas = json.load(open('data_metadata.json'))\n",
    "with h5py.File('data.h5','r') as h5f:\n",
    "    X2 = h5f['X'][:]\n",
    "    y2 = h5f['y'][:]\n",
    "    t2 = h5f['t'][:]\n",
    "y\n",
    "```\n",
    "    \"\"\")"
   ]
  },
  {
   "cell_type": "code",
   "execution_count": null,
   "metadata": {
    "ExecuteTime": {
     "start_time": "2017-03-20T07:48:46.458Z"
    }
   },
   "outputs": [],
   "source": [
    "# test load\n",
    "metadatas = json.load(open(output_dir.joinpath('data_metadata.json')))\n",
    "with h5py.File(output_dir.joinpath('data.h5'),'r') as h5f:\n",
    "    X2 = h5f['X'][:]\n",
    "    y2 = h5f['y'][:]\n",
    "    t2 = h5f['t'][:]\n",
    "X2.shape, y2, t2, metadatas[0].keys()"
   ]
  },
  {
   "cell_type": "code",
   "execution_count": null,
   "metadata": {},
   "outputs": [],
   "source": [
    "output_dir"
   ]
  }
 ],
 "metadata": {
  "kernelspec": {
   "display_name": "satellite",
   "language": "python",
   "name": "satellite"
  },
  "language_info": {
   "codemirror_mode": {
    "name": "ipython",
    "version": 3
   },
   "file_extension": ".py",
   "mimetype": "text/x-python",
   "name": "python",
   "nbconvert_exporter": "python",
   "pygments_lexer": "ipython3",
   "version": "3.9.7"
  },
  "toc": {
   "nav_menu": {
    "height": "96px",
    "width": "251px"
   },
   "navigate_menu": true,
   "number_sections": true,
   "sideBar": true,
   "threshold": 4,
   "toc_cell": false,
   "toc_section_display": "block",
   "toc_window_display": false
  }
 },
 "nbformat": 4,
 "nbformat_minor": 1
}
